{
 "cells": [
  {
   "cell_type": "code",
   "execution_count": 2,
   "metadata": {},
   "outputs": [],
   "source": [
    "import pandas as pd\n",
    "import plotly.express as px\n",
    "import matplotlib.pyplot as plt"
   ]
  },
  {
   "cell_type": "code",
   "execution_count": 3,
   "metadata": {},
   "outputs": [],
   "source": [
    "df = pd.read_excel('BaseEstudo.xlsx')\n",
    "#display(df)"
   ]
  },
  {
   "cell_type": "code",
   "execution_count": 20,
   "metadata": {},
   "outputs": [
    {
     "data": {
      "text/plain": [
       "array(['Diana Martins', 'Clara Nunes', 'Camila Souza', 'Anderson Gomes',\n",
       "       'Renato Souza', 'Felipe Melo'], dtype=object)"
      ]
     },
     "metadata": {},
     "output_type": "display_data"
    }
   ],
   "source": [
    "df['Data'] = pd.to_datetime(df['Data'], format='%d%m%Y')\n",
    "df['Ano da Venda'] = df['Data'].dt.year\n",
    "display(df['Vendedor'].unique())"
   ]
  },
  {
   "cell_type": "code",
   "execution_count": 23,
   "metadata": {},
   "outputs": [
    {
     "data": {
      "text/html": [
       "<div>\n",
       "<style scoped>\n",
       "    .dataframe tbody tr th:only-of-type {\n",
       "        vertical-align: middle;\n",
       "    }\n",
       "\n",
       "    .dataframe tbody tr th {\n",
       "        vertical-align: top;\n",
       "    }\n",
       "\n",
       "    .dataframe thead th {\n",
       "        text-align: right;\n",
       "    }\n",
       "</style>\n",
       "<table border=\"1\" class=\"dataframe\">\n",
       "  <thead>\n",
       "    <tr style=\"text-align: right;\">\n",
       "      <th></th>\n",
       "      <th>Data</th>\n",
       "      <th>Vendedor</th>\n",
       "      <th>Produto</th>\n",
       "      <th>Forma_Pgto</th>\n",
       "      <th>Preço_Unit</th>\n",
       "      <th>Qtd_Prod</th>\n",
       "      <th>Ano da Venda</th>\n",
       "      <th>Valor Total</th>\n",
       "    </tr>\n",
       "  </thead>\n",
       "  <tbody>\n",
       "    <tr>\n",
       "      <th>4166</th>\n",
       "      <td>2019-01-01</td>\n",
       "      <td>Clara Nunes</td>\n",
       "      <td>Ipad</td>\n",
       "      <td>Cartão de Crédito</td>\n",
       "      <td>396.0</td>\n",
       "      <td>1</td>\n",
       "      <td>2019</td>\n",
       "      <td>396.0</td>\n",
       "    </tr>\n",
       "    <tr>\n",
       "      <th>4167</th>\n",
       "      <td>2019-01-01</td>\n",
       "      <td>Clara Nunes</td>\n",
       "      <td>Ipad</td>\n",
       "      <td>Cartão de Crédito</td>\n",
       "      <td>396.0</td>\n",
       "      <td>1</td>\n",
       "      <td>2019</td>\n",
       "      <td>396.0</td>\n",
       "    </tr>\n",
       "    <tr>\n",
       "      <th>4169</th>\n",
       "      <td>2019-01-02</td>\n",
       "      <td>Anderson Gomes</td>\n",
       "      <td>Smartwatch</td>\n",
       "      <td>Dinheiro</td>\n",
       "      <td>759.0</td>\n",
       "      <td>1</td>\n",
       "      <td>2019</td>\n",
       "      <td>759.0</td>\n",
       "    </tr>\n",
       "    <tr>\n",
       "      <th>4174</th>\n",
       "      <td>2019-01-02</td>\n",
       "      <td>Clara Nunes</td>\n",
       "      <td>Ipad</td>\n",
       "      <td>Cartão de Crédito</td>\n",
       "      <td>148.5</td>\n",
       "      <td>1</td>\n",
       "      <td>2019</td>\n",
       "      <td>148.5</td>\n",
       "    </tr>\n",
       "    <tr>\n",
       "      <th>4178</th>\n",
       "      <td>2019-01-03</td>\n",
       "      <td>Camila Souza</td>\n",
       "      <td>Ipad</td>\n",
       "      <td>Cartão de Crédito</td>\n",
       "      <td>148.5</td>\n",
       "      <td>1</td>\n",
       "      <td>2019</td>\n",
       "      <td>148.5</td>\n",
       "    </tr>\n",
       "  </tbody>\n",
       "</table>\n",
       "</div>"
      ],
      "text/plain": [
       "           Data        Vendedor     Produto         Forma_Pgto  Preço_Unit  \\\n",
       "4166 2019-01-01     Clara Nunes        Ipad  Cartão de Crédito       396.0   \n",
       "4167 2019-01-01     Clara Nunes        Ipad  Cartão de Crédito       396.0   \n",
       "4169 2019-01-02  Anderson Gomes  Smartwatch           Dinheiro       759.0   \n",
       "4174 2019-01-02     Clara Nunes        Ipad  Cartão de Crédito       148.5   \n",
       "4178 2019-01-03    Camila Souza        Ipad  Cartão de Crédito       148.5   \n",
       "\n",
       "      Qtd_Prod  Ano da Venda  Valor Total  \n",
       "4166         1          2019        396.0  \n",
       "4167         1          2019        396.0  \n",
       "4169         1          2019        759.0  \n",
       "4174         1          2019        148.5  \n",
       "4178         1          2019        148.5  "
      ]
     },
     "metadata": {},
     "output_type": "display_data"
    }
   ],
   "source": [
    "df['Valor Total'] = df['Preço_Unit'] * df['Qtd_Prod']\n",
    "df_2019 = df[df['Ano da Venda'] == 2019]\n",
    "vendas_vendedor = df_2019.groupby('Vendedor')['Qtd_Prod'].sum()\n",
    "vendas_vendedor = vendas_vendedor.sort_values(ascending=True)\n",
    "nomes_vendedores = ['Camila Souza', 'Anderson Gomes', 'Clara Nunes']\n",
    "vendas_vendedor_filtrado = df_2019.loc[df_2019['Vendedor'].isin(nomes_vendedores)]\n",
    "\n",
    "display(vendas_vendedor_filtrado[:5])\n"
   ]
  },
  {
   "cell_type": "code",
   "execution_count": 6,
   "metadata": {},
   "outputs": [
    {
     "data": {
      "text/plain": [
       "<matplotlib.legend.Legend at 0x1b07feadc70>"
      ]
     },
     "metadata": {},
     "output_type": "display_data"
    },
    {
     "data": {
      "image/png": "[encoded data removed]",
      "text/plain": [
       "<Figure size 640x480 with 1 Axes>"
      ]
     },
     "metadata": {},
     "output_type": "display_data"
    }
   ],
   "source": [
    "vendas_vendedor_filtrado = vendas_vendedor.sort_values(ascending=True)\n",
    "display(vendas_vendedor_filtrado.plot.barh(title='Qtde Vendida por Vendedor', color='purple', ).legend())"
   ]
  },
  {
   "cell_type": "code",
   "execution_count": null,
   "metadata": {},
   "outputs": [],
   "source": []
  },
  {
   "cell_type": "code",
   "execution_count": null,
   "metadata": {},
   "outputs": [],
   "source": []
  }
 ],
 "metadata": {
  "kernelspec": {
   "display_name": "Python 3",
   "language": "python",
   "name": "python3"
  },
  "language_info": {
   "codemirror_mode": {
    "name": "ipython",
    "version": 3
   },
   "file_extension": ".py",
   "mimetype": "text/x-python",
   "name": "python",
   "nbconvert_exporter": "python",
   "pygments_lexer": "ipython3",
   "version": "3.12.3"
  }
 },
 "nbformat": 4,
 "nbformat_minor": 2
}
